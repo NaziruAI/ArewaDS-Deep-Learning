{
  "cells": [
    {
      "cell_type": "markdown",
      "source": [
        "## Arewa Data Science Academy\n",
        "### Deep Learning Cohort 2.0\n",
        "\n",
        "#### Name: Naziru Abdussalam Ibrahim\n",
        "#### Email: naziruabdussalami@gmail.com\n",
        "#### Title: Week 1 Solution"
      ],
      "metadata": {
        "id": "XDU3vpTL4MHz"
      }
    },
    {
      "cell_type": "markdown",
      "source": [
        "### Exercises Solution\n"
      ],
      "metadata": {
        "id": "Bw4fgrfg4pY8"
      }
    },
    {
      "cell_type": "markdown",
      "source": [
        "2. Create a random tensor with shape (7, 7).\n"
      ],
      "metadata": {
        "id": "4FipLT4a4xqS"
      }
    },
    {
      "cell_type": "code",
      "source": [
        "import torch\n",
        "L = torch.rand(size=(7, 7))\n",
        "print(L)\n",
        "L.shape"
      ],
      "metadata": {
        "colab": {
          "base_uri": "https://localhost:8080/"
        },
        "id": "9XPLr4-M4jcT",
        "outputId": "8d71a6e5-a73c-4c2f-abe5-17275e372034"
      },
      "execution_count": 1,
      "outputs": [
        {
          "output_type": "stream",
          "name": "stdout",
          "text": [
            "tensor([[0.8794, 0.0290, 0.7533, 0.8945, 0.4890, 0.6924, 0.8406],\n",
            "        [0.6552, 0.3526, 0.7270, 0.6223, 0.4067, 0.4127, 0.3124],\n",
            "        [0.6847, 0.3701, 0.9259, 0.9908, 0.1293, 0.3896, 0.4739],\n",
            "        [0.7271, 0.9887, 0.9504, 0.4204, 0.6451, 0.6529, 0.4234],\n",
            "        [0.3813, 0.1637, 0.7610, 0.3058, 0.2411, 0.6241, 0.8597],\n",
            "        [0.8825, 0.1943, 0.6267, 0.8234, 0.1545, 0.4783, 0.1161],\n",
            "        [0.9525, 0.1890, 0.0397, 0.5915, 0.5225, 0.3796, 0.6267]])\n"
          ]
        },
        {
          "output_type": "execute_result",
          "data": {
            "text/plain": [
              "torch.Size([7, 7])"
            ]
          },
          "metadata": {},
          "execution_count": 1
        }
      ]
    },
    {
      "cell_type": "markdown",
      "source": [
        "3. Perform a matrix multiplication on the tensor from 2 with another random tensor with shape (1, 7) (hint: you may have to transpose the second tensor).\n"
      ],
      "metadata": {
        "id": "LJuRlilh50OG"
      }
    },
    {
      "cell_type": "code",
      "source": [
        "\n",
        "# another random tensor of (1, 7)\n",
        "M = torch.rand(1, 7)\n",
        "\n",
        "# matrix multiplication of N and M\n",
        "N = torch.mm(L, M.T)\n",
        "print(N)\n",
        "N.shape"
      ],
      "metadata": {
        "colab": {
          "base_uri": "https://localhost:8080/"
        },
        "id": "HWlQNxrC44Mi",
        "outputId": "4d016c93-c236-47d6-c7f5-88a8df002a70"
      },
      "execution_count": 2,
      "outputs": [
        {
          "output_type": "stream",
          "name": "stdout",
          "text": [
            "tensor([[2.9484],\n",
            "        [2.3108],\n",
            "        [2.7691],\n",
            "        [2.9808],\n",
            "        [2.0059],\n",
            "        [2.4895],\n",
            "        [2.0388]])\n"
          ]
        },
        {
          "output_type": "execute_result",
          "data": {
            "text/plain": [
              "torch.Size([7, 1])"
            ]
          },
          "metadata": {},
          "execution_count": 2
        }
      ]
    },
    {
      "cell_type": "markdown",
      "source": [
        "4. Set the random seed to 0 and do 2 & 3 over again.\n"
      ],
      "metadata": {
        "id": "T8Lt4wfq6CS0"
      }
    },
    {
      "cell_type": "code",
      "source": [
        "\n",
        "# 0 random seed\n",
        "torch.manual_seed(0)\n",
        "\n",
        "O = torch.rand(size=(7, 7))\n",
        "P = torch.rand(size=(1, 7))\n",
        "\n",
        "# matrix multiplication\n",
        "Q = torch.mm(O, P.T)\n",
        "print(Q)\n",
        "Q.shape"
      ],
      "metadata": {
        "colab": {
          "base_uri": "https://localhost:8080/"
        },
        "id": "ihm7hAYd6DGq",
        "outputId": "39551950-ad4a-4b4f-8095-759d131658ca"
      },
      "execution_count": 3,
      "outputs": [
        {
          "output_type": "stream",
          "name": "stdout",
          "text": [
            "tensor([[1.8542],\n",
            "        [1.9611],\n",
            "        [2.2884],\n",
            "        [3.0481],\n",
            "        [1.7067],\n",
            "        [2.5290],\n",
            "        [1.7989]])\n"
          ]
        },
        {
          "output_type": "execute_result",
          "data": {
            "text/plain": [
              "torch.Size([7, 1])"
            ]
          },
          "metadata": {},
          "execution_count": 3
        }
      ]
    },
    {
      "cell_type": "code",
      "source": [
        "# 2 random seed\n",
        "torch.manual_seed(2)\n",
        "\n",
        "O = torch.rand(size=(7, 7))\n",
        "P = torch.rand(size=(1, 7))\n",
        "\n",
        "# matrix multiplication\n",
        "Q = torch.mm(O, P.T)\n",
        "print(Q)\n",
        "Q.shape"
      ],
      "metadata": {
        "colab": {
          "base_uri": "https://localhost:8080/"
        },
        "id": "7KBzCa6-6Nu8",
        "outputId": "dccd8010-4c3d-4e8b-ac3b-2eaa4ddb226f"
      },
      "execution_count": 4,
      "outputs": [
        {
          "output_type": "stream",
          "name": "stdout",
          "text": [
            "tensor([[2.5722],\n",
            "        [2.0592],\n",
            "        [2.2192],\n",
            "        [2.4909],\n",
            "        [1.5547],\n",
            "        [1.6152],\n",
            "        [3.0816]])\n"
          ]
        },
        {
          "output_type": "execute_result",
          "data": {
            "text/plain": [
              "torch.Size([7, 1])"
            ]
          },
          "metadata": {},
          "execution_count": 4
        }
      ]
    },
    {
      "cell_type": "code",
      "source": [
        "# 3 random seed\n",
        "torch.manual_seed(3)\n",
        "\n",
        "O = torch.rand(size=(7, 7))\n",
        "P = torch.rand(size=(1, 7))\n",
        "\n",
        "# matrix multiplication\n",
        "Q = torch.mm(O, P.T)\n",
        "print(Q)\n",
        "Q.shape"
      ],
      "metadata": {
        "colab": {
          "base_uri": "https://localhost:8080/"
        },
        "id": "CEuwP5ku_FTq",
        "outputId": "5a428f82-bd26-466e-a2db-7d4bb69ea898"
      },
      "execution_count": 5,
      "outputs": [
        {
          "output_type": "stream",
          "name": "stdout",
          "text": [
            "tensor([[1.1569],\n",
            "        [2.7528],\n",
            "        [2.7826],\n",
            "        [1.8017],\n",
            "        [0.8425],\n",
            "        [1.8660],\n",
            "        [1.6771]])\n"
          ]
        },
        {
          "output_type": "execute_result",
          "data": {
            "text/plain": [
              "torch.Size([7, 1])"
            ]
          },
          "metadata": {},
          "execution_count": 5
        }
      ]
    },
    {
      "cell_type": "markdown",
      "source": [
        "5. Speaking of random seeds, we saw how to set it with torch.manual_seed() but is there a GPU equivalent? (hint: you'll need to look into the documentation for torch.cuda for this one)\n"
      ],
      "metadata": {
        "id": "zd5z5B5I_Uqf"
      }
    },
    {
      "cell_type": "code",
      "source": [
        "# Set random seed on the GPU\n",
        "torch.cuda.manual_seed(1234)"
      ],
      "metadata": {
        "id": "b4qiuqJm_ODb"
      },
      "execution_count": 6,
      "outputs": []
    },
    {
      "cell_type": "markdown",
      "source": [
        "6. Create two random tensors of shape (2, 3) and send them both to the GPU (you'll need access to a GPU for this). Set torch.manual_seed(1234) when creating the tensors (this doesn't have to be the GPU random seed). The output should be something like:"
      ],
      "metadata": {
        "id": "KmiHD_h1ASDu"
      }
    },
    {
      "cell_type": "code",
      "source": [
        "# Set random seed\n",
        "torch.manual_seed(1234)\n",
        "\n",
        "# Check for access to GPU\n",
        "device = \"cuda\" if torch.cuda.is_available() else \"cpu\"\n",
        "print(f\"Device: {device}\")\n",
        "\n",
        "# Create two random tensors on GPU\n",
        "tensor_P = torch.rand(size=(2,3)).to(device)\n",
        "tensor_Q = torch.rand(size=(2,3)).to(device)\n",
        "tensor_P, tensor_Q"
      ],
      "metadata": {
        "colab": {
          "base_uri": "https://localhost:8080/"
        },
        "id": "jvBX-Uji_jzQ",
        "outputId": "ab9c5ae1-55ea-490f-d95a-8915075ddcfd"
      },
      "execution_count": 4,
      "outputs": [
        {
          "output_type": "stream",
          "name": "stdout",
          "text": [
            "Device: cuda\n"
          ]
        },
        {
          "output_type": "execute_result",
          "data": {
            "text/plain": [
              "(tensor([[0.0290, 0.4019, 0.2598],\n",
              "         [0.3666, 0.0583, 0.7006]], device='cuda:0'),\n",
              " tensor([[0.0518, 0.4681, 0.6738],\n",
              "         [0.3315, 0.7837, 0.5631]], device='cuda:0'))"
            ]
          },
          "metadata": {},
          "execution_count": 4
        }
      ]
    },
    {
      "cell_type": "markdown",
      "source": [
        "7. Perform a matrix multiplication on the tensors you created in 6 (again, you may have to adjust the shapes of one of the tensors)."
      ],
      "metadata": {
        "id": "p-1iIg1oElfR"
      }
    },
    {
      "cell_type": "code",
      "source": [
        "# Perform matmul on tensor_P and tensor_Q\n",
        "tensor_R = torch.mm(tensor_P, tensor_Q.T)\n",
        "tensor_R, tensor_R.shape\n",
        ""
      ],
      "metadata": {
        "colab": {
          "base_uri": "https://localhost:8080/"
        },
        "id": "C2LGc5w1Cieu",
        "outputId": "6a10f3d1-ce1a-463f-e84d-b6fdce0e7ce3"
      },
      "execution_count": 6,
      "outputs": [
        {
          "output_type": "execute_result",
          "data": {
            "text/plain": [
              "(tensor([[0.3647, 0.4709],\n",
              "         [0.5184, 0.5617]], device='cuda:0'),\n",
              " torch.Size([2, 2]))"
            ]
          },
          "metadata": {},
          "execution_count": 6
        }
      ]
    },
    {
      "cell_type": "markdown",
      "source": [
        "8. Find the maximum and minimum values of the output of 7."
      ],
      "metadata": {
        "id": "EjwdVrYZFzGY"
      }
    },
    {
      "cell_type": "code",
      "source": [
        "# Using tensor methods for max and min\n",
        "max_value = tensor_R.max()\n",
        "min_value = tensor_R.min()\n",
        "max_value, min_value\n"
      ],
      "metadata": {
        "colab": {
          "base_uri": "https://localhost:8080/"
        },
        "id": "3khxVaDhFU8Q",
        "outputId": "d3e4bc04-8b57-41b9-8fd2-443154638c31"
      },
      "execution_count": 7,
      "outputs": [
        {
          "output_type": "execute_result",
          "data": {
            "text/plain": [
              "(tensor(0.5617, device='cuda:0'), tensor(0.3647, device='cuda:0'))"
            ]
          },
          "metadata": {},
          "execution_count": 7
        }
      ]
    },
    {
      "cell_type": "markdown",
      "source": [
        "9. Find the maximum and minimum index values of the output of 7."
      ],
      "metadata": {
        "id": "zXRBW8LwHc6Y"
      }
    },
    {
      "cell_type": "code",
      "source": [
        "# Find arg max\n",
        "arg_max = tensor_R.argmax()\n",
        "\n",
        "# Find arg min\n",
        "arg_min = tensor_R.argmin()\n",
        "arg_max, arg_min"
      ],
      "metadata": {
        "colab": {
          "base_uri": "https://localhost:8080/"
        },
        "id": "6eNv_-VMHLs2",
        "outputId": "63fb0d5b-d262-408c-bfeb-1786bc4f2ce4"
      },
      "execution_count": 9,
      "outputs": [
        {
          "output_type": "execute_result",
          "data": {
            "text/plain": [
              "(tensor(3, device='cuda:0'), tensor(0, device='cuda:0'))"
            ]
          },
          "metadata": {},
          "execution_count": 9
        }
      ]
    },
    {
      "cell_type": "markdown",
      "source": [
        "10. Make a random tensor with shape (1, 1, 1, 10) and then create a new tensor with all the 1 dimensions removed to be left with a tensor of shape (10). Set the seed to 7 when you create it and print out the first tensor and it's shape as well as the second tensor and it's shape."
      ],
      "metadata": {
        "id": "d80mM0txJYtj"
      }
    },
    {
      "cell_type": "code",
      "source": [
        "torch.manual_seed(7)\n",
        "\n",
        "# Create random tensor\n",
        "tensor_D = torch.rand(1, 1, 1, 10)\n",
        "\n",
        "# Remove single dimensions\n",
        "tensor_E = torch.flatten(tensor_D)\n",
        "\n",
        "# Print out tensors\n",
        "print(tensor_D, tensor_D.shape)\n",
        "print(tensor_E, tensor_E.shape)"
      ],
      "metadata": {
        "colab": {
          "base_uri": "https://localhost:8080/"
        },
        "id": "7gO-tSTrI5bo",
        "outputId": "93d9bb02-e8b1-4f4b-94e6-8d0a6a815acc"
      },
      "execution_count": 10,
      "outputs": [
        {
          "output_type": "stream",
          "name": "stdout",
          "text": [
            "tensor([[[[0.5349, 0.1988, 0.6592, 0.6569, 0.2328, 0.4251, 0.2071, 0.6297,\n",
            "           0.3653, 0.8513]]]]) torch.Size([1, 1, 1, 10])\n",
            "tensor([0.5349, 0.1988, 0.6592, 0.6569, 0.2328, 0.4251, 0.2071, 0.6297, 0.3653,\n",
            "        0.8513]) torch.Size([10])\n"
          ]
        }
      ]
    }
  ],
  "metadata": {
    "kernelspec": {
      "display_name": "Python 3",
      "name": "python3"
    },
    "language_info": {
      "name": "python",
      "version": "3.12.8"
    },
    "colab": {
      "provenance": [],
      "gpuType": "T4"
    },
    "accelerator": "GPU"
  },
  "nbformat": 4,
  "nbformat_minor": 0
}