{
  "cells": [
    {
      "cell_type": "markdown",
      "metadata": {
        "id": "Md0jekOdHxaR"
      },
      "source": [
        "## Arewa DataScience Academy\n",
        "## Arewa DataScience Academy\n",
        "### Deep Learning Cohort 2.0\n",
        "\n",
        "### WEEK 2 Solution"
      ]
    },
    {
      "cell_type": "code",
      "execution_count": 13,
      "metadata": {
        "colab": {
          "base_uri": "https://localhost:8080/",
          "height": 35
        },
        "id": "UNUVjAuzIos2",
        "outputId": "4f0b1f4b-611a-454b-be99-ec9140974c15"
      },
      "outputs": [
        {
          "data": {
            "text/plain": [
              "'2.5.1'"
            ]
          },
          "execution_count": 13,
          "metadata": {},
          "output_type": "execute_result"
        }
      ],
      "source": [
        "import torch\n",
        "from torch import nn\n",
        "import matplotlib.pyplot as plt\n",
        "\n",
        "# Check PyTorch version\n",
        "torch.__version__"
      ]
    },
    {
      "cell_type": "markdown",
      "metadata": {
        "id": "uLWO8hxSKQwZ"
      },
      "source": [
        "\n",
        "    1. Create a straight line dataset using the linear regression formula (weight * X + bias).\n",
        "\n",
        "    Set weight=0.3 and bias=0.9 there should be at least 100 datapoints total.\n",
        "    Split the data into 80% training, 20% testing.\n",
        "    Plot the training and testing data so it becomes visual.\n"
      ]
    },
    {
      "cell_type": "code",
      "execution_count": 14,
      "metadata": {
        "colab": {
          "base_uri": "https://localhost:8080/"
        },
        "id": "YHo8vYBIJjwm",
        "outputId": "710cc306-5881-43f9-cae7-e5ffefdebac5"
      },
      "outputs": [
        {
          "name": "stdout",
          "output_type": "stream",
          "text": [
            "tensor([[0.0000],\n",
            "        [0.0100],\n",
            "        [0.0200],\n",
            "        [0.0300],\n",
            "        [0.0400],\n",
            "        [0.0500],\n",
            "        [0.0600],\n",
            "        [0.0700],\n",
            "        [0.0800],\n",
            "        [0.0900]]) tensor([[0.9000],\n",
            "        [0.9030],\n",
            "        [0.9060],\n",
            "        [0.9090],\n",
            "        [0.9120],\n",
            "        [0.9150],\n",
            "        [0.9180],\n",
            "        [0.9210],\n",
            "        [0.9240],\n",
            "        [0.9270]]) \n",
            "\n",
            "X samples: 100,  y samples: 100\n"
          ]
        }
      ],
      "source": [
        "weight = 0.3\n",
        "bias = 0.9\n",
        "\n",
        "# creating the dataset\n",
        "X = torch.arange(0, 1, 0.01).unsqueeze(dim=1)\n",
        "y = weight * X + bias\n",
        "print(X[:10], y[:10], '\\n')\n",
        "print(f'X samples: {len(X)},  y samples: {len(y)}')\n"
      ]
    },
    {
      "cell_type": "code",
      "execution_count": 15,
      "metadata": {
        "colab": {
          "base_uri": "https://localhost:8080/"
        },
        "id": "bor_xqDNPkrI",
        "outputId": "da67eb73-7923-4bae-9427-cbae0a2d42aa"
      },
      "outputs": [
        {
          "data": {
            "text/plain": [
              "(80, 80, 20, 20)"
            ]
          },
          "execution_count": 15,
          "metadata": {},
          "output_type": "execute_result"
        }
      ],
      "source": [
        "# splitting the dataset\n",
        "train_split = int(0.8 * len(X))\n",
        "X_train, X_test = X[:train_split], X[train_split:]\n",
        "y_train, y_test = y[:train_split], y[train_split:]\n",
        "len(X_train), len(y_train), len(X_test), len(y_test)"
      ]
    },
    {
      "cell_type": "code",
      "execution_count": 16,
      "metadata": {
        "colab": {
          "base_uri": "https://localhost:8080/",
          "height": 599
        },
        "id": "re_ujWSeLz-G",
        "outputId": "08deb7d8-c954-46a5-d9a3-d543e32c6b0b"
      },
      "outputs": [
        {
          "data": {
            "image/png": "[encoded data removed]",
            "text/plain": [
              "<Figure size 1000x700 with 1 Axes>"
            ]
          },
          "metadata": {},
          "output_type": "display_data"
        }
      ],
      "source": [
        "def plot_predictions(train_data=X_train,\n",
        "                     train_labels=y_train,\n",
        "                     test_data=X_test,\n",
        "                     test_labels=y_test,\n",
        "                     predictions=None):\n",
        "  \"\"\"\n",
        "  Plots training data, test data and compares predictions.\n",
        "  \"\"\"\n",
        "  plt.figure(figsize=(10, 7))\n",
        "\n",
        "  # Plot training data in blue\n",
        "  plt.scatter(train_data, train_labels, c=\"b\", label=\"Training data\")\n",
        "\n",
        "  # Plot test data in green\n",
        "  plt.scatter(test_data, test_labels, c=\"g\", label=\"Testing data\")\n",
        "\n",
        "  if predictions is not None:\n",
        "    # Plot the predictions in red (predictions were made on the test data)\n",
        "    plt.scatter(test_data, predictions, c=\"r\", label=\"Predictions\")\n",
        "\n",
        "  # Show the legend\n",
        "  plt.legend(prop={\"size\": 14});\n",
        "plot_predictions()"
      ]
    },
    {
      "cell_type": "markdown",
      "metadata": {
        "id": "OOJC2yh2ePaD"
      },
      "source": [
        "\n",
        "    2. Build a PyTorch model by subclassing nn.Module.\n",
        "\n",
        "    Inside should be a randomly initialized nn.Parameter() with requires_grad=True, one for weights and one for bias.\n",
        "    Implement the forward() method to compute the linear regression function you used to create the dataset in 1.\n",
        "    Once you've constructed the model, make an instance of it and check its state_dict().\n",
        "    Note: If you'd like to use nn.Linear() instead of nn.Parameter() you can.\n"
      ]
    },
    {
      "cell_type": "code",
      "execution_count": 17,
      "metadata": {
        "colab": {
          "base_uri": "https://localhost:8080/"
        },
        "id": "juxT58FLcjm0",
        "outputId": "cb4bfab0-47e3-43d5-8825-0d53d61bb091"
      },
      "outputs": [
        {
          "name": "stdout",
          "output_type": "stream",
          "text": [
            "LinearModel()\n",
            "OrderedDict({'weight': tensor([0.3367]), 'bias': tensor([0.1288])})\n"
          ]
        }
      ],
      "source": [
        "class LinearModel(nn.Module):\n",
        "  def __init__(self):\n",
        "    super().__init__()\n",
        "    self.weight = nn.Parameter(torch.randn(1, dtype=torch.float), requires_grad=True)\n",
        "    self.bias = nn.Parameter(torch.randn(1,dtype=torch.float), requires_grad=True)\n",
        "\n",
        "  # forward pass\n",
        "  def forward(self, x: torch.Tensor):\n",
        "    return self.weight * x + self.bias\n",
        "\n",
        "# setting manual seed\n",
        "torch.manual_seed(42)\n",
        "# model instance\n",
        "model_1 = LinearModel()\n",
        "print(model_1)\n",
        "# model state dict\n",
        "print(model_1.state_dict())\n"
      ]
    },
    {
      "cell_type": "markdown",
      "metadata": {
        "id": "eWuQhCxBtaHC"
      },
      "source": [
        "\n",
        "    3. Create a loss function and optimizer using nn.L1Loss() and torch.optim.SGD(params, lr) respectively.\n",
        "\n",
        "    Set the learning rate of the optimizer to be 0.01 and the parameters to optimize should be the model parameters from the model you created in 2.\n",
        "    Write a training loop to perform the appropriate training steps for 300 epochs.\n",
        "    The training loop should test the model on the test dataset every 20 epochs.\n"
      ]
    },
    {
      "cell_type": "code",
      "execution_count": 6,
      "metadata": {
        "id": "BGpM6vEUjmnd"
      },
      "outputs": [],
      "source": [
        "# creating loss function\n",
        "loss_function = nn.L1Loss()\n",
        "\n",
        "# setting optimizer\n",
        "optimizer = torch.optim.SGD(params=model_1.parameters(), lr=0.01)"
      ]
    },
    {
      "cell_type": "code",
      "execution_count": 7,
      "metadata": {
        "colab": {
          "base_uri": "https://localhost:8080/"
        },
        "id": "6jUosOThzm6E",
        "outputId": "22f014ab-8f7c-4c60-917f-f1104af0f80e"
      },
      "outputs": [
        {
          "name": "stdout",
          "output_type": "stream",
          "text": [
            "Epoch: 0 | MAE Train Loss: 0.7566978335380554 | MAE Test Loss: 0.7248174548149109 \n",
            "Epoch: 20 | MAE Train Loss: 0.5254928469657898 | MAE Test Loss: 0.4541124403476715 \n",
            "Epoch: 40 | MAE Train Loss: 0.2942880392074585 | MAE Test Loss: 0.18340764939785004 \n",
            "Epoch: 60 | MAE Train Loss: 0.07658576965332031 | MAE Test Loss: 0.07274086028337479 \n",
            "Epoch: 80 | MAE Train Loss: 0.05255373567342758 | MAE Test Loss: 0.11581540107727051 \n",
            "Epoch: 100 | MAE Train Loss: 0.045542728155851364 | MAE Test Loss: 0.10467890650033951 \n",
            "Epoch: 120 | MAE Train Loss: 0.03868866711854935 | MAE Test Loss: 0.08938358724117279 \n",
            "Epoch: 140 | MAE Train Loss: 0.03183453157544136 | MAE Test Loss: 0.07408786565065384 \n",
            "Epoch: 160 | MAE Train Loss: 0.024982359260320663 | MAE Test Loss: 0.0581042543053627 \n",
            "Epoch: 180 | MAE Train Loss: 0.018130185082554817 | MAE Test Loss: 0.04212062805891037 \n",
            "Epoch: 200 | MAE Train Loss: 0.011278990656137466 | MAE Test Loss: 0.02579306997358799 \n",
            "Epoch: 220 | MAE Train Loss: 0.004429381340742111 | MAE Test Loss: 0.009467745199799538 \n",
            "Epoch: 240 | MAE Train Loss: 0.00370177929289639 | MAE Test Loss: 0.006489443592727184 \n",
            "Epoch: 260 | MAE Train Loss: 0.00370177929289639 | MAE Test Loss: 0.006489443592727184 \n",
            "Epoch: 280 | MAE Train Loss: 0.00370177929289639 | MAE Test Loss: 0.006489443592727184 \n"
          ]
        }
      ],
      "source": [
        "\n",
        "torch.manual_seed(42)\n",
        "\n",
        "# Set the number of epochs (how many times the model will pass over the training data)\n",
        "epochs = 300\n",
        "\n",
        "# Create empty loss lists to track values\n",
        "train_loss_values = []\n",
        "test_loss_values = []\n",
        "epoch_count = []\n",
        "\n",
        "for epoch in range(epochs):\n",
        "\n",
        "  # TRAINING THE MODEL\n",
        "  model_1.train()  #training mode\n",
        "  y_pred = model_1(X_train) #forward pass on training data\n",
        "  loss = loss_function(y_pred, y_train)  #difference bitween prediction and actual values\n",
        "  optimizer.zero_grad()\n",
        "  loss.backward()\n",
        "  optimizer.step() # progress the optimizer\n",
        "\n",
        "  # TESTING THE MODEL\n",
        "  model_1.eval() #setting in evaluation mode\n",
        "\n",
        "  with torch.inference_mode():\n",
        "    test_pred = model_1(X_test) #test prediction\n",
        "    test_loss = loss_function(test_pred, y_test.type(torch.float))  # get the loss\n",
        "\n",
        "    # Print out what's happening\n",
        "    if epoch % 20 == 0:\n",
        "        epoch_count.append(epoch)\n",
        "        train_loss_values.append(loss.detach().numpy())\n",
        "        test_loss_values.append(test_loss.detach().numpy())\n",
        "        print(f\"Epoch: {epoch} | MAE Train Loss: {loss} | MAE Test Loss: {test_loss} \")\n"
      ]
    },
    {
      "cell_type": "markdown",
      "metadata": {
        "id": "bxJZBIWNnGLu"
      },
      "source": [
        "\n",
        "    4. Make predictions with the trained model on the test data.\n",
        "\n",
        "    Visualize these predictions against the original training and testing data (note: you may need to make sure the predictions are not on the GPU if you want to use non-CUDA-enabled libraries such as matplotlib to plot).\n"
      ]
    },
    {
      "cell_type": "code",
      "execution_count": 8,
      "metadata": {
        "colab": {
          "base_uri": "https://localhost:8080/"
        },
        "id": "YtwTzI_RmCKx",
        "outputId": "e74df073-1a87-42b0-9766-a88a69508365"
      },
      "outputs": [
        {
          "data": {
            "text/plain": [
              "tensor([[1.1464],\n",
              "        [1.1495],\n",
              "        [1.1525],\n",
              "        [1.1556],\n",
              "        [1.1587],\n",
              "        [1.1617],\n",
              "        [1.1648],\n",
              "        [1.1679],\n",
              "        [1.1709],\n",
              "        [1.1740],\n",
              "        [1.1771],\n",
              "        [1.1801],\n",
              "        [1.1832],\n",
              "        [1.1863],\n",
              "        [1.1893],\n",
              "        [1.1924],\n",
              "        [1.1955],\n",
              "        [1.1985],\n",
              "        [1.2016],\n",
              "        [1.2047]])"
            ]
          },
          "execution_count": 8,
          "metadata": {},
          "output_type": "execute_result"
        }
      ],
      "source": [
        "# set the model in evaluation mode\n",
        "model_1.eval()\n",
        "\n",
        "with torch.inference_mode():\n",
        "\n",
        "  y_pred = model_1(X_test)\n",
        "y_pred"
      ]
    },
    {
      "cell_type": "code",
      "execution_count": 9,
      "metadata": {
        "colab": {
          "base_uri": "https://localhost:8080/",
          "height": 599
        },
        "id": "oMnPCQ2ZoAQ3",
        "outputId": "7cdf93dc-2294-454c-9e2a-ba243c002cbf"
      },
      "outputs": [
        {
          "data": {
            "image/png": "[encoded data removed]",
            "text/plain": [
              "<Figure size 1000x700 with 1 Axes>"
            ]
          },
          "metadata": {},
          "output_type": "display_data"
        }
      ],
      "source": [
        "plot_predictions(predictions = y_pred)"
      ]
    },
    {
      "cell_type": "markdown",
      "metadata": {
        "id": "5UtdTuNGVnjF"
      },
      "source": [
        "\n",
        "    5. Save your trained model's state_dict() to file.\n",
        "\n",
        "    Create a new instance of your model class you made in 2. and load in the state_dict() you just saved to it.\n",
        "    Perform predictions on your test data with the loaded model and confirm they match the original model predictions from 4.\n"
      ]
    },
    {
      "cell_type": "code",
      "execution_count": 10,
      "metadata": {
        "colab": {
          "base_uri": "https://localhost:8080/"
        },
        "id": "-W0Vun9rVH3J",
        "outputId": "7bac97d9-a806-4704-effa-639507eba164"
      },
      "outputs": [
        {
          "name": "stdout",
          "output_type": "stream",
          "text": [
            "Saving model to: models/01_pytorch_workflow_model_1.pth\n"
          ]
        }
      ],
      "source": [
        "from pathlib import Path\n",
        "\n",
        "# 1. Create models directory\n",
        "MODEL_PATH = Path(\"models\")\n",
        "MODEL_PATH.mkdir(parents=True, exist_ok=True)\n",
        "\n",
        "# 2. Create model save path\n",
        "MODEL_NAME = \"01_pytorch_workflow_model_1.pth\"\n",
        "MODEL_SAVE_PATH = MODEL_PATH / MODEL_NAME\n",
        "\n",
        "# 3. Save the model state dict\n",
        "print(f\"Saving model to: {MODEL_SAVE_PATH}\")\n",
        "torch.save(obj=model_1.state_dict(), # only saving the state_dict() only saves the models learned parameters\n",
        "           f=MODEL_SAVE_PATH)"
      ]
    },
    {
      "cell_type": "code",
      "execution_count": 11,
      "metadata": {
        "colab": {
          "base_uri": "https://localhost:8080/"
        },
        "id": "RehMHD55Yh0S",
        "outputId": "78be4925-19a2-4fcd-cb1a-8521c728d0c9"
      },
      "outputs": [
        {
          "name": "stdout",
          "output_type": "stream",
          "text": [
            "Loaded model:\n",
            "LinearModel()\n",
            "Model on device:\n",
            "cpu\n"
          ]
        },
        {
          "name": "stderr",
          "output_type": "stream",
          "text": [
            "/tmp/ipykernel_3842/1557162179.py:5: FutureWarning: You are using `torch.load` with `weights_only=False` (the current default value), which uses the default pickle module implicitly. It is possible to construct malicious pickle data which will execute arbitrary code during unpickling (See https://github.com/pytorch/pytorch/blob/main/SECURITY.md#untrusted-models for more details). In a future release, the default value for `weights_only` will be flipped to `True`. This limits the functions that could be executed during unpickling. Arbitrary objects will no longer be allowed to be loaded via this mode unless they are explicitly allowlisted by the user via `torch.serialization.add_safe_globals`. We recommend you start setting `weights_only=True` for any use case where you don't have full control of the loaded file. Please open an issue on GitHub for any issues related to this experimental feature.\n",
            "  loaded_model_1.load_state_dict(torch.load(MODEL_SAVE_PATH))\n"
          ]
        }
      ],
      "source": [
        "# Instantiate a fresh instance of LinearRegressionModelV2\n",
        "loaded_model_1 = LinearModel()\n",
        "\n",
        "# Load model state dict\n",
        "loaded_model_1.load_state_dict(torch.load(MODEL_SAVE_PATH))\n",
        "\n",
        "# Put model to target device (if your data is on GPU, model will have to be on GPU to make predictions)\n",
        "loaded_model_1\n",
        "\n",
        "print(f\"Loaded model:\\n{loaded_model_1}\")\n",
        "print(f\"Model on device:\\n{next(loaded_model_1.parameters()).device}\")"
      ]
    },
    {
      "cell_type": "code",
      "execution_count": 12,
      "metadata": {
        "colab": {
          "base_uri": "https://localhost:8080/"
        },
        "id": "dHoyV1ZIYpSD",
        "outputId": "f8cf5bdc-de9d-41d3-cd4f-43e431c38a4b"
      },
      "outputs": [
        {
          "data": {
            "text/plain": [
              "tensor([[True],\n",
              "        [True],\n",
              "        [True],\n",
              "        [True],\n",
              "        [True],\n",
              "        [True],\n",
              "        [True],\n",
              "        [True],\n",
              "        [True],\n",
              "        [True],\n",
              "        [True],\n",
              "        [True],\n",
              "        [True],\n",
              "        [True],\n",
              "        [True],\n",
              "        [True],\n",
              "        [True],\n",
              "        [True],\n",
              "        [True],\n",
              "        [True]])"
            ]
          },
          "execution_count": 12,
          "metadata": {},
          "output_type": "execute_result"
        }
      ],
      "source": [
        "# Evaluate loaded model\n",
        "loaded_model_1.eval()\n",
        "with torch.inference_mode():\n",
        "    loaded_model_1_preds = loaded_model_1(X_test)\n",
        "y_pred == loaded_model_1_preds"
      ]
    },
    {
      "cell_type": "markdown",
      "metadata": {
        "id": "e5evviwMdxOm"
      },
      "source": [
        "# Additional Exercises Solutions"
      ]
    },
    {
      "cell_type": "code",
      "execution_count": 21,
      "metadata": {
        "id": "l0V3GIcQZ3SJ"
      },
      "outputs": [],
      "source": [
        "# import libraries\n",
        "import zipfile\n",
        "import pandas as pd"
      ]
    },
    {
      "cell_type": "code",
      "execution_count": 22,
      "metadata": {
        "colab": {
          "base_uri": "https://localhost:8080/"
        },
        "id": "Wg78UmKmeYdu",
        "outputId": "c6227270-99c1-47ce-bcfe-0ff1c88bf018"
      },
      "outputs": [
        {
          "name": "stdout",
          "output_type": "stream",
          "text": [
            "--2025-01-30 11:48:28--  https://archive.ics.uci.edu/static/public/607/synchronous+machine+data+set.zip\n",
            "Resolving archive.ics.uci.edu (archive.ics.uci.edu)... 128.195.10.252\n",
            "Connecting to archive.ics.uci.edu (archive.ics.uci.edu)|128.195.10.252|:443... connected.\n",
            "HTTP request sent, awaiting response... 200 OK\n",
            "Length: unspecified\n",
            "Saving to: ‘data.zip’\n",
            "\n",
            "data.zip                [ <=>                ]  14.37K  --.-KB/s    in 0.1s    \n",
            "\n",
            "2025-01-30 11:48:29 (112 KB/s) - ‘data.zip’ saved [14713]\n",
            "\n"
          ]
        }
      ],
      "source": [
        "!wget https://archive.ics.uci.edu/static/public/607/synchronous+machine+data+set.zip -O data.zip"
      ]
    },
    {
      "cell_type": "code",
      "execution_count": 23,
      "metadata": {
        "id": "VCtnSHrpjkQX"
      },
      "outputs": [],
      "source": [
        "!unzip -q data.zip -d dataset"
      ]
    },
    {
      "cell_type": "code",
      "execution_count": 24,
      "metadata": {
        "colab": {
          "base_uri": "https://localhost:8080/"
        },
        "id": "ao_QKW3jg0De",
        "outputId": "93a0a280-9cad-4730-a7c2-19712568a5e9"
      },
      "outputs": [
        {
          "name": "stdout",
          "output_type": "stream",
          "text": [
            "'synchronous machine.csv'\n"
          ]
        }
      ],
      "source": [
        "!ls dataset\n"
      ]
    },
    {
      "cell_type": "code",
      "execution_count": 25,
      "metadata": {
        "id": "l7dRI8Sxe515"
      },
      "outputs": [],
      "source": [
        "# read csv and parse to pandas\n",
        "dataset_name = \"dataset/synchronous machine.csv\"\n",
        "data = pd.read_csv(dataset_name, delimiter=\";\", thousands=',')"
      ]
    },
    {
      "cell_type": "code",
      "execution_count": 26,
      "metadata": {
        "id": "dBZIyko_fzbQ"
      },
      "outputs": [],
      "source": [
        "# get numpy data\n",
        "numpy_data = data.values"
      ]
    },
    {
      "cell_type": "markdown",
      "metadata": {
        "id": "RrrFuVVFpLK2"
      },
      "source": [
        "# 1. PyTorch Fundamentals\n",
        "**Question 1.** Loading our data..."
      ]
    },
    {
      "cell_type": "markdown",
      "metadata": {
        "id": "j3j8hHGMmY7W"
      },
      "source": [
        "(a) Load the Synchronous Machine Learning Dataset as Numpy array."
      ]
    },
    {
      "cell_type": "code",
      "execution_count": 27,
      "metadata": {
        "colab": {
          "base_uri": "https://localhost:8080/"
        },
        "id": "9ffNaN6Fk__r",
        "outputId": "e70eb820-0330-41c9-daca-35deaf12dd08"
      },
      "outputs": [
        {
          "name": "stdout",
          "output_type": "stream",
          "text": [
            "Dataset Shape: (557, 5)\n",
            "First 5 rows:\n",
            " [[   3   66   34  383 1563]\n",
            " [   3   68   32  372 1552]\n",
            " [   3    7    3   36  154]\n",
            " [   3   72   28  338 1518]\n",
            " [   3   74   26  317 1497]]\n"
          ]
        }
      ],
      "source": [
        "# Print shape and first few rows\n",
        "print(\"Dataset Shape:\", numpy_data.shape)\n",
        "print(\"First 5 rows:\\n\", numpy_data[:5])\n"
      ]
    },
    {
      "cell_type": "markdown",
      "metadata": {
        "id": "AHXjG6yNnRqX"
      },
      "source": [
        "(b) Convert the Numpy array to PyTorch tensor, original data tensor."
      ]
    },
    {
      "cell_type": "code",
      "execution_count": 28,
      "metadata": {
        "id": "CuU-64jPlqa4"
      },
      "outputs": [],
      "source": [
        "# Convert NumPy array to PyTorch tensor\n",
        "original_data_tensor = torch.tensor(numpy_data, dtype=torch.float32)\n"
      ]
    },
    {
      "cell_type": "markdown",
      "metadata": {
        "id": "9mR-1-UHpiXB"
      },
      "source": [
        "__Question 2.__ Art of ”Tensor Manipulation”"
      ]
    },
    {
      "cell_type": "markdown",
      "metadata": {
        "id": "witu56Icp8M5"
      },
      "source": [
        "(a) Print the size of the dataset."
      ]
    },
    {
      "cell_type": "code",
      "execution_count": 29,
      "metadata": {
        "colab": {
          "base_uri": "https://localhost:8080/"
        },
        "id": "PHztzOp5oj4V",
        "outputId": "2b7a6a62-f8d8-488d-e977-b7c454f4f874"
      },
      "outputs": [
        {
          "name": "stdout",
          "output_type": "stream",
          "text": [
            "Tensor Shape: torch.Size([557, 5])\n",
            "First 5 rows:\n",
            " tensor([[   3.,   66.,   34.,  383., 1563.],\n",
            "        [   3.,   68.,   32.,  372., 1552.],\n",
            "        [   3.,    7.,    3.,   36.,  154.],\n",
            "        [   3.,   72.,   28.,  338., 1518.],\n",
            "        [   3.,   74.,   26.,  317., 1497.]])\n"
          ]
        }
      ],
      "source": [
        "# Print size and first few rows of the tensor dataset\n",
        "print(\"Tensor Shape:\", original_data_tensor.shape)\n",
        "print(\"First 5 rows:\\n\", original_data_tensor[:5])"
      ]
    },
    {
      "cell_type": "markdown",
      "metadata": {
        "id": "c4KwIaJarFTv"
      },
      "source": [
        "(b) Create a tensor, my pi tensor of same size as original data tensor containing values of 3.142 at\n",
        "every point and placed on your GPU device. Print the first 13 rows. Print tensor device location.\n",
        "Print tensor datatype."
      ]
    },
    {
      "cell_type": "code",
      "execution_count": 30,
      "metadata": {
        "colab": {
          "base_uri": "https://localhost:8080/"
        },
        "id": "26C7ZrDwqrvT",
        "outputId": "b0c11c55-e792-430b-b8ac-c735658fc93a"
      },
      "outputs": [
        {
          "name": "stdout",
          "output_type": "stream",
          "text": [
            "Using device: cpu\n"
          ]
        }
      ],
      "source": [
        "# checking for the gpu device\n",
        "device = torch.device(\"cuda\" if torch.cuda.is_available() else \"cpu\")\n",
        "print(\"Using device:\", device)\n"
      ]
    },
    {
      "cell_type": "code",
      "execution_count": 31,
      "metadata": {
        "colab": {
          "base_uri": "https://localhost:8080/"
        },
        "id": "OeyzyQIVri4n",
        "outputId": "8105fc87-b1f9-49b4-c98c-89195ef623ec"
      },
      "outputs": [
        {
          "name": "stdout",
          "output_type": "stream",
          "text": [
            "First 13 rows of my_pi_tensor:\n",
            " tensor([[3.1420, 3.1420, 3.1420, 3.1420, 3.1420],\n",
            "        [3.1420, 3.1420, 3.1420, 3.1420, 3.1420],\n",
            "        [3.1420, 3.1420, 3.1420, 3.1420, 3.1420],\n",
            "        [3.1420, 3.1420, 3.1420, 3.1420, 3.1420],\n",
            "        [3.1420, 3.1420, 3.1420, 3.1420, 3.1420],\n",
            "        [3.1420, 3.1420, 3.1420, 3.1420, 3.1420],\n",
            "        [3.1420, 3.1420, 3.1420, 3.1420, 3.1420],\n",
            "        [3.1420, 3.1420, 3.1420, 3.1420, 3.1420],\n",
            "        [3.1420, 3.1420, 3.1420, 3.1420, 3.1420],\n",
            "        [3.1420, 3.1420, 3.1420, 3.1420, 3.1420],\n",
            "        [3.1420, 3.1420, 3.1420, 3.1420, 3.1420],\n",
            "        [3.1420, 3.1420, 3.1420, 3.1420, 3.1420],\n",
            "        [3.1420, 3.1420, 3.1420, 3.1420, 3.1420]]) \n",
            "\n",
            "Tensor is stored on: cpu\n",
            "Tensor datatype: torch.float32\n"
          ]
        }
      ],
      "source": [
        "# Create a tensor of the same shape as data_tensor, filled with 3.142\n",
        "my_pi_tensor = torch.full_like(original_data_tensor, 3.142, dtype=torch.float32, device=device)\n",
        "\n",
        "# Print the first 13 rows\n",
        "print(\"First 13 rows of my_pi_tensor:\\n\", my_pi_tensor[:13],'\\n')\n",
        "\n",
        "# Print tensor device location\n",
        "print(\"Tensor is stored on:\", my_pi_tensor.device)\n",
        "\n",
        "# Print tensor datatype\n",
        "print(\"Tensor datatype:\", my_pi_tensor.dtype)\n"
      ]
    },
    {
      "cell_type": "markdown",
      "metadata": {
        "id": "EbIQCx6JvZic"
      },
      "source": [
        "(c) Print the fifth-root of the sum of all values in my pi tensor."
      ]
    },
    {
      "cell_type": "code",
      "execution_count": 32,
      "metadata": {
        "colab": {
          "base_uri": "https://localhost:8080/"
        },
        "id": "4nHVC4TGr8QP",
        "outputId": "b156e6f7-4106-4bfb-f853-a2ad5b903248"
      },
      "outputs": [
        {
          "name": "stdout",
          "output_type": "stream",
          "text": [
            "Fifth root of the sum of all values in my_pi_tensor: 6.143364429473877\n"
          ]
        }
      ],
      "source": [
        "# Compute the sum of all values in my_pi_tensor\n",
        "sum_pi = my_pi_tensor.sum()\n",
        "\n",
        "# Compute the fifth root\n",
        "fifth_root = sum_pi ** (1/5)\n",
        "\n",
        "# Print the result\n",
        "print(\"Fifth root of the sum of all values in my_pi_tensor:\", fifth_root.item())\n"
      ]
    },
    {
      "cell_type": "markdown",
      "metadata": {
        "id": "sWsEEsizvmDs"
      },
      "source": [
        "(d) Create a new tensor, my data tensor using the first and last 100 rows from the original data tensor.\n",
        "Print size of my data tensor [Expect a size of 200 rows]."
      ]
    },
    {
      "cell_type": "code",
      "execution_count": 33,
      "metadata": {
        "colab": {
          "base_uri": "https://localhost:8080/"
        },
        "id": "zSSbPayKvRaP",
        "outputId": "259618e7-b7a0-4881-f832-ac070ce11137"
      },
      "outputs": [
        {
          "name": "stdout",
          "output_type": "stream",
          "text": [
            "Size of my_data_tensor: torch.Size([200, 5])\n"
          ]
        }
      ],
      "source": [
        "# Select first and last 100 rows\n",
        "first_100 = original_data_tensor[:100]\n",
        "last_100 = original_data_tensor[-100:]\n",
        "\n",
        "# Create my_data_tensor by concatenation\n",
        "my_data_tensor = torch.cat((first_100, last_100), dim=0)\n",
        "\n",
        "# Print size\n",
        "print(\"Size of my_data_tensor:\", my_data_tensor.shape)\n"
      ]
    },
    {
      "cell_type": "markdown",
      "metadata": {
        "id": "vy2fXuFxw5dG"
      },
      "source": [
        "(e) Create two 1-D tensors, features and target from my data tensor. The feature is dIf (Changing\n",
        "of excitation current of synchronous machine) I) column and target is If (Excitation current of\n",
        "synchronous machine)."
      ]
    },
    {
      "cell_type": "code",
      "execution_count": 34,
      "metadata": {
        "colab": {
          "base_uri": "https://localhost:8080/"
        },
        "id": "UAyBN8IHwZ77",
        "outputId": "3bbbc308-14eb-4e00-cb2e-0cfc687baf2e"
      },
      "outputs": [
        {
          "name": "stdout",
          "output_type": "stream",
          "text": [
            "Index(['Iy', 'PF', 'e', 'dIf', 'If'], dtype='object')\n"
          ]
        }
      ],
      "source": [
        "print(data.columns)  # Identify which index belongs to dIf and If\n"
      ]
    },
    {
      "cell_type": "code",
      "execution_count": 35,
      "metadata": {
        "colab": {
          "base_uri": "https://localhost:8080/"
        },
        "id": "aqITsSXPzRUO",
        "outputId": "5262a357-7193-4491-d5ea-7c652e76d6a4"
      },
      "outputs": [
        {
          "name": "stdout",
          "output_type": "stream",
          "text": [
            "Feature (dIf) Tensor Shape: torch.Size([200])\n",
            "Target (If) Tensor Shape: torch.Size([200])\n",
            "First 5 values of features (dIf): tensor([383., 372.,  36., 338., 317.])\n",
            "First 5 values of target (If): tensor([1563., 1552.,  154., 1518., 1497.])\n"
          ]
        }
      ],
      "source": [
        "# set the column indices for features and target\n",
        "features = my_data_tensor[:, 3]  # Selecting dIf column\n",
        "target = my_data_tensor[:, 4]  # Selecting If column\n",
        "\n",
        "print(\"Feature (dIf) Tensor Shape:\", features.shape)\n",
        "print(\"Target (If) Tensor Shape:\", target.shape)\n",
        "\n",
        "print(\"First 5 values of features (dIf):\", features[:5])\n",
        "print(\"First 5 values of target (If):\", target[:5])\n",
        "\n"
      ]
    },
    {
      "cell_type": "markdown",
      "metadata": {
        "id": "orG-vshx2NLC"
      },
      "source": [
        "(f) Split your data into training and test data of ratio 75:25 respectively."
      ]
    },
    {
      "cell_type": "code",
      "execution_count": 36,
      "metadata": {
        "colab": {
          "base_uri": "https://localhost:8080/"
        },
        "id": "zehuNO0I0b1A",
        "outputId": "06563a4c-6a82-42f0-9126-084b62332b48"
      },
      "outputs": [
        {
          "data": {
            "text/plain": [
              "(150, 150, 50, 50)"
            ]
          },
          "execution_count": 36,
          "metadata": {},
          "output_type": "execute_result"
        }
      ],
      "source": [
        "# splitting the dataset\n",
        "train_split = int(0.75 * len(my_data_tensor))\n",
        "X_train, X_test = features[:train_split], features[train_split:]\n",
        "y_train, y_test = target[:train_split], target[train_split:]\n",
        "len(X_train), len(y_train), len(X_test), len(y_test)"
      ]
    },
    {
      "cell_type": "markdown",
      "metadata": {
        "id": "DqahV_Gw7gXs"
      },
      "source": [
        "# 2. PyTorch Workflow Fundamentals\n",
        "__Question 3.__ Define your Linear model structure. You can use existing model."
      ]
    },
    {
      "cell_type": "code",
      "execution_count": 76,
      "metadata": {
        "colab": {
          "base_uri": "https://localhost:8080/"
        },
        "id": "oBxsrjOq55Pv",
        "outputId": "b46ef06a-7975-4a53-a014-47a272d4ebe4"
      },
      "outputs": [
        {
          "name": "stdout",
          "output_type": "stream",
          "text": [
            "LinearModel()\n",
            "OrderedDict([('weight', tensor([0.3367])), ('bias', tensor([0.1288]))])\n"
          ]
        }
      ],
      "source": [
        "# setting manual seed\n",
        "torch.manual_seed(42)\n",
        "# model instance\n",
        "model_2 = LinearModel()\n",
        "print(model_2)\n",
        "# model state dict\n",
        "print(model_2.state_dict())"
      ]
    },
    {
      "cell_type": "markdown",
      "metadata": {
        "id": "K2bXxCF89gKy"
      },
      "source": [
        "**Question 4.** Train model for any number of epochs. Generate 1 plot of Loss against Epoch during model\n",
        "training and testing. Choose any set of hyperparameters for model training."
      ]
    },
    {
      "cell_type": "code",
      "execution_count": 77,
      "metadata": {
        "id": "QH9QFzdg8EEV"
      },
      "outputs": [],
      "source": [
        "# Creating the loss function\n",
        "loss_function = nn.L1Loss()\n",
        "\n",
        "# Setting optimizer to Adam\n",
        "optimizer = torch.optim.Adam(params=model_2.parameters(), lr=0.001)\n"
      ]
    },
    {
      "cell_type": "code",
      "execution_count": 80,
      "metadata": {
        "colab": {
          "base_uri": "https://localhost:8080/"
        },
        "id": "5pmFdZDi-kjU",
        "outputId": "0436e86f-14bf-4e79-9542-2361267938ac"
      },
      "outputs": [
        {
          "name": "stdout",
          "output_type": "stream",
          "text": [
            "Epoch: 0 | MAE Train Loss: 1176.56494140625 | MAE Test Loss: 1261.9364013671875 \n",
            "Epoch: 20 | MAE Train Loss: 1170.859130859375 | MAE Test Loss: 1253.7633056640625 \n",
            "Epoch: 40 | MAE Train Loss: 1165.1534423828125 | MAE Test Loss: 1245.5902099609375 \n",
            "Epoch: 60 | MAE Train Loss: 1159.4476318359375 | MAE Test Loss: 1237.4171142578125 \n",
            "Epoch: 80 | MAE Train Loss: 1153.7418212890625 | MAE Test Loss: 1229.244140625 \n",
            "Epoch: 100 | MAE Train Loss: 1148.0360107421875 | MAE Test Loss: 1221.0709228515625 \n",
            "Epoch: 120 | MAE Train Loss: 1142.330078125 | MAE Test Loss: 1212.89794921875 \n",
            "Epoch: 140 | MAE Train Loss: 1136.62451171875 | MAE Test Loss: 1204.7247314453125 \n",
            "Epoch: 160 | MAE Train Loss: 1130.918701171875 | MAE Test Loss: 1196.5516357421875 \n",
            "Epoch: 180 | MAE Train Loss: 1125.2127685546875 | MAE Test Loss: 1188.3785400390625 \n"
          ]
        }
      ],
      "source": [
        "\n",
        "torch.manual_seed(42)\n",
        "\n",
        "# Set the number of epochs (how many times the model will pass over the training data)\n",
        "epochs = 200\n",
        "\n",
        "# Create empty loss lists to track values\n",
        "train_loss_values = []\n",
        "test_loss_values = []\n",
        "epoch_count = []\n",
        "\n",
        "for epoch in range(epochs):\n",
        "\n",
        "  # TRAINING THE MODEL\n",
        "  model_2.train()  #training mode\n",
        "  y_pred = model_2(X_train) #forward pass on training data\n",
        "  loss = loss_function(y_pred, y_train)  #difference bitween prediction and actual values\n",
        "  optimizer.zero_grad()\n",
        "  loss.backward()\n",
        "  optimizer.step() # progress the optimizer\n",
        "\n",
        "  # TESTING THE MODEL\n",
        "  model_1.eval() #setting in evaluation mode\n",
        "\n",
        "  with torch.inference_mode():\n",
        "    test_pred = model_2(X_test) #test prediction\n",
        "    test_loss = loss_function(test_pred, y_test.type(torch.float))  # get the loss\n",
        "\n",
        "    # Print out what's happening\n",
        "    if epoch % 20 == 0:\n",
        "        epoch_count.append(epoch)\n",
        "        train_loss_values.append(loss.detach().numpy())\n",
        "        test_loss_values.append(test_loss.detach().numpy())\n",
        "        print(f\"Epoch: {epoch} | MAE Train Loss: {loss} | MAE Test Loss: {test_loss} \")\n"
      ]
    },
    {
      "cell_type": "code",
      "execution_count": 81,
      "metadata": {
        "colab": {
          "base_uri": "https://localhost:8080/",
          "height": 472
        },
        "id": "ZmuDxqpJ_zuf",
        "outputId": "49b79719-0db4-4c5e-f336-a43069c1eb9d"
      },
      "outputs": [
        {
          "data": {
            "image/png": "[encoded data removed]",
            "text/plain": [
              "<Figure size 640x480 with 1 Axes>"
            ]
          },
          "metadata": {},
          "output_type": "display_data"
        }
      ],
      "source": [
        "# Plot the loss curves\n",
        "plt.plot(epoch_count, train_loss_values, label=\"Train loss\")\n",
        "plt.plot(epoch_count, test_loss_values, label=\"Test loss\")\n",
        "plt.title(\"Training and test loss curves\")\n",
        "plt.ylabel(\"Loss\")\n",
        "plt.xlabel(\"Epochs\")\n",
        "plt.legend();"
      ]
    },
    {
      "cell_type": "markdown",
      "metadata": {
        "id": "4HMvCntBbBNn"
      },
      "source": [
        "__Question 5.__ Briefly comment on your results. What could be done to make the model or prediction\n",
        "better? (< 60 words)"
      ]
    },
    {
      "cell_type": "markdown",
      "metadata": {
        "id": "DaUl-9APbPIm"
      },
      "source": [
        "The model's training and test loss decrease steadily, indicating that is learning, but the performance is still relatively high. To improve the model, consider using a more complex architecture, tuning hyperparameters like learning rate, or using a different loss function to optimize better. More data could also enhance model generalization and performance."
      ]
    }
  ],
  "metadata": {
    "colab": {
      "provenance": []
    },
    "kernelspec": {
      "display_name": "deep_learning",
      "language": "python",
      "name": "python3"
    },
    "language_info": {
      "codemirror_mode": {
        "name": "ipython",
        "version": 3
      },
      "file_extension": ".py",
      "mimetype": "text/x-python",
      "name": "python",
      "nbconvert_exporter": "python",
      "pygments_lexer": "ipython3",
      "version": "3.12.8"
    }
  },
  "nbformat": 4,
  "nbformat_minor": 0
}
